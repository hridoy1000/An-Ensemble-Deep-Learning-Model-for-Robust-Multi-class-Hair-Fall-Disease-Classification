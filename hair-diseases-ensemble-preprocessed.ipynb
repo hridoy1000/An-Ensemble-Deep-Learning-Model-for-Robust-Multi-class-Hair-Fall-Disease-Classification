{
 "cells": [
  {
   "cell_type": "code",
   "execution_count": 1,
   "id": "3eea23d2",
   "metadata": {
    "execution": {
     "iopub.execute_input": "2024-05-06T09:34:31.303839Z",
     "iopub.status.busy": "2024-05-06T09:34:31.303498Z",
     "iopub.status.idle": "2024-05-06T09:34:36.438151Z",
     "shell.execute_reply": "2024-05-06T09:34:36.437496Z"
    },
    "papermill": {
     "duration": 5.154601,
     "end_time": "2024-05-06T09:34:36.440437",
     "exception": false,
     "start_time": "2024-05-06T09:34:31.285836",
     "status": "completed"
    },
    "tags": []
   },
   "outputs": [],
   "source": [
    "from keras.layers import Input, Lambda, Dense, Flatten\n",
    "from keras.models import Model\n",
    "from keras.applications.vgg19 import VGG19\n",
    "from keras.applications.vgg19 import preprocess_input\n",
    "from keras.preprocessing import image\n",
    "from keras.preprocessing.image import ImageDataGenerator\n",
    "from keras.models import Sequential\n",
    "import numpy as np\n",
    "from glob import glob\n",
    "import matplotlib.pyplot as plt\n",
    "import tensorflow as tf"
   ]
  },
  {
   "cell_type": "code",
   "execution_count": 2,
   "id": "db78dcb0",
   "metadata": {
    "execution": {
     "iopub.execute_input": "2024-05-06T09:34:36.471246Z",
     "iopub.status.busy": "2024-05-06T09:34:36.471007Z",
     "iopub.status.idle": "2024-05-06T09:34:36.474781Z",
     "shell.execute_reply": "2024-05-06T09:34:36.474113Z"
    },
    "papermill": {
     "duration": 0.020358,
     "end_time": "2024-05-06T09:34:36.476550",
     "exception": false,
     "start_time": "2024-05-06T09:34:36.456192",
     "status": "completed"
    },
    "tags": []
   },
   "outputs": [],
   "source": [
    "IMAGE_SIZE = [224, 224]\n",
    "\n",
    "test_path = r'/kaggle/input/pre-processed-hair-data/hair-diseases/Hair Diseases - Final/test'\n",
    "val_path = r'/kaggle/input/pre-processed-hair-data/hair-diseases/Hair Diseases - Final/val'\n"
   ]
  },
  {
   "cell_type": "code",
   "execution_count": 3,
   "id": "636c4524",
   "metadata": {
    "execution": {
     "iopub.execute_input": "2024-05-06T09:34:36.505484Z",
     "iopub.status.busy": "2024-05-06T09:34:36.504882Z",
     "iopub.status.idle": "2024-05-06T09:34:37.010892Z",
     "shell.execute_reply": "2024-05-06T09:34:37.010169Z"
    },
    "papermill": {
     "duration": 0.522973,
     "end_time": "2024-05-06T09:34:37.013420",
     "exception": false,
     "start_time": "2024-05-06T09:34:36.490447",
     "status": "completed"
    },
    "tags": []
   },
   "outputs": [
    {
     "name": "stdout",
     "output_type": "stream",
     "text": [
      "Found 1200 images belonging to 10 classes.\n",
      "Found 1200 images belonging to 10 classes.\n"
     ]
    }
   ],
   "source": [
    "from keras.preprocessing.image import ImageDataGenerator\n",
    "\n",
    "# Create ImageDataGenerator for test data\n",
    "test_datagen = ImageDataGenerator(rescale=1./255)\n",
    "\n",
    "# Load test data from directory\n",
    "test_set = test_datagen.flow_from_directory(\n",
    "    directory=test_path,\n",
    "    target_size=(224, 224),\n",
    "    batch_size=64,\n",
    "    class_mode='categorical', \n",
    "    shuffle=False\n",
    ")\n",
    "\n",
    "val_datagen = ImageDataGenerator(rescale=1./255)\n",
    "\n",
    "# Load test data from directory\n",
    "val_set = val_datagen.flow_from_directory(\n",
    "    directory=val_path,\n",
    "    target_size=(224, 224),\n",
    "    batch_size=64,\n",
    "    class_mode='categorical', \n",
    "    shuffle=False\n",
    ")"
   ]
  },
  {
   "cell_type": "markdown",
   "id": "e2743fb4",
   "metadata": {
    "papermill": {
     "duration": 0.01437,
     "end_time": "2024-05-06T09:34:37.044349",
     "exception": false,
     "start_time": "2024-05-06T09:34:37.029979",
     "status": "completed"
    },
    "tags": []
   },
   "source": [
    "# Load the saved models\n"
   ]
  },
  {
   "cell_type": "code",
   "execution_count": 4,
   "id": "8af5d142",
   "metadata": {
    "execution": {
     "iopub.execute_input": "2024-05-06T09:34:37.074938Z",
     "iopub.status.busy": "2024-05-06T09:34:37.074718Z",
     "iopub.status.idle": "2024-05-06T09:34:45.204683Z",
     "shell.execute_reply": "2024-05-06T09:34:45.203819Z"
    },
    "papermill": {
     "duration": 8.148393,
     "end_time": "2024-05-06T09:34:45.207214",
     "exception": false,
     "start_time": "2024-05-06T09:34:37.058821",
     "status": "completed"
    },
    "tags": []
   },
   "outputs": [],
   "source": [
    "model1 = tf.keras.models.load_model('/kaggle/input/hair-diseases-preprocessed-mobilenetv2model/MobileNetV2-Final.h5')\n",
    "model2 = tf.keras.models.load_model('/kaggle/input/hair-diseases-preprocessed-vgg19model/VGG19-Final.h5')\n",
    "model3 = tf.keras.models.load_model('/kaggle/input/hair-diseases-preprocessed-vgg16model/VGG16-Final.h5')\n",
    "model4 = tf.keras.models.load_model('/kaggle/input/hair-diseases-preprocessed-cnnmodel/raw_cnn_model.h5')"
   ]
  },
  {
   "cell_type": "markdown",
   "id": "a64b2845",
   "metadata": {
    "papermill": {
     "duration": 0.014924,
     "end_time": "2024-05-06T09:34:45.237343",
     "exception": false,
     "start_time": "2024-05-06T09:34:45.222419",
     "status": "completed"
    },
    "tags": []
   },
   "source": [
    "# Testdata set"
   ]
  },
  {
   "cell_type": "code",
   "execution_count": 5,
   "id": "33846198",
   "metadata": {
    "execution": {
     "iopub.execute_input": "2024-05-06T09:34:45.268662Z",
     "iopub.status.busy": "2024-05-06T09:34:45.268409Z",
     "iopub.status.idle": "2024-05-06T09:35:22.433559Z",
     "shell.execute_reply": "2024-05-06T09:35:22.432658Z"
    },
    "papermill": {
     "duration": 37.183576,
     "end_time": "2024-05-06T09:35:22.436174",
     "exception": false,
     "start_time": "2024-05-06T09:34:45.252598",
     "status": "completed"
    },
    "tags": []
   },
   "outputs": [],
   "source": [
    "predictions = []\n",
    "for model in [model1, model2, model3, model4]:\n",
    "    predictions.append(model.predict(test_set))\n",
    "\n",
    "ensemble_predictions = np.mean(predictions, axis=0)\n",
    "\n",
    "final_predictions = np.argmax(ensemble_predictions, axis=1)\n",
    "\n"
   ]
  },
  {
   "cell_type": "code",
   "execution_count": 6,
   "id": "26a17909",
   "metadata": {
    "execution": {
     "iopub.execute_input": "2024-05-06T09:35:22.470765Z",
     "iopub.status.busy": "2024-05-06T09:35:22.469991Z",
     "iopub.status.idle": "2024-05-06T09:35:22.477963Z",
     "shell.execute_reply": "2024-05-06T09:35:22.477223Z"
    },
    "papermill": {
     "duration": 0.028333,
     "end_time": "2024-05-06T09:35:22.480277",
     "exception": false,
     "start_time": "2024-05-06T09:35:22.451944",
     "status": "completed"
    },
    "tags": []
   },
   "outputs": [
    {
     "data": {
      "text/plain": [
       "array([0, 0, 0, ..., 9, 9, 9])"
      ]
     },
     "execution_count": 6,
     "metadata": {},
     "output_type": "execute_result"
    }
   ],
   "source": [
    "final_predictions"
   ]
  },
  {
   "cell_type": "code",
   "execution_count": 7,
   "id": "adf8ff6e",
   "metadata": {
    "execution": {
     "iopub.execute_input": "2024-05-06T09:35:22.512096Z",
     "iopub.status.busy": "2024-05-06T09:35:22.511847Z",
     "iopub.status.idle": "2024-05-06T09:35:23.122632Z",
     "shell.execute_reply": "2024-05-06T09:35:23.121907Z"
    },
    "papermill": {
     "duration": 0.629078,
     "end_time": "2024-05-06T09:35:23.124686",
     "exception": false,
     "start_time": "2024-05-06T09:35:22.495608",
     "status": "completed"
    },
    "tags": []
   },
   "outputs": [
    {
     "name": "stdout",
     "output_type": "stream",
     "text": [
      "              precision    recall  f1-score   support\n",
      "\n",
      "           0       1.00      1.00      1.00       120\n",
      "           1       0.99      0.97      0.98       120\n",
      "           2       1.00      1.00      1.00       120\n",
      "           3       0.98      0.99      0.99       120\n",
      "           4       0.99      0.98      0.99       120\n",
      "           5       1.00      1.00      1.00       120\n",
      "           6       1.00      1.00      1.00       120\n",
      "           7       0.97      0.98      0.98       120\n",
      "           8       1.00      1.00      1.00       120\n",
      "           9       0.98      0.98      0.98       120\n",
      "\n",
      "    accuracy                           0.99      1200\n",
      "   macro avg       0.99      0.99      0.99      1200\n",
      "weighted avg       0.99      0.99      0.99      1200\n",
      "\n"
     ]
    }
   ],
   "source": [
    "from sklearn.metrics import classification_report\n",
    "test_labels = test_set.classes\n",
    "\n",
    "report = classification_report(test_labels, final_predictions)\n",
    "print(report)\n"
   ]
  },
  {
   "cell_type": "code",
   "execution_count": 8,
   "id": "9f64b4e0",
   "metadata": {
    "execution": {
     "iopub.execute_input": "2024-05-06T09:35:23.158923Z",
     "iopub.status.busy": "2024-05-06T09:35:23.158680Z",
     "iopub.status.idle": "2024-05-06T09:35:24.194280Z",
     "shell.execute_reply": "2024-05-06T09:35:24.193557Z"
    },
    "papermill": {
     "duration": 1.055473,
     "end_time": "2024-05-06T09:35:24.197012",
     "exception": false,
     "start_time": "2024-05-06T09:35:23.141539",
     "status": "completed"
    },
    "tags": []
   },
   "outputs": [
    {
     "data": {
      "image/png": "[encoded data removed]",
      "text/plain": [
       "<Figure size 720x576 with 2 Axes>"
      ]
     },
     "metadata": {
      "needs_background": "light"
     },
     "output_type": "display_data"
    }
   ],
   "source": [
    "from sklearn.metrics import confusion_matrix\n",
    "import seaborn as sns\n",
    "\n",
    "conf_matrix = confusion_matrix(test_labels, final_predictions)\n",
    "\n",
    "plt.figure(figsize=(10, 8))\n",
    "sns.heatmap(conf_matrix, annot=True, fmt='d', cmap='Blues', \n",
    "            xticklabels=test_set.class_indices.keys(), \n",
    "            yticklabels=test_set.class_indices.keys())\n",
    "plt.xlabel('Predicted labels')\n",
    "plt.ylabel('True labels')\n",
    "plt.title('Confusion Matrix')\n",
    "plt.show()\n"
   ]
  },
  {
   "cell_type": "markdown",
   "id": "5307fe13",
   "metadata": {
    "papermill": {
     "duration": 0.017648,
     "end_time": "2024-05-06T09:35:24.232610",
     "exception": false,
     "start_time": "2024-05-06T09:35:24.214962",
     "status": "completed"
    },
    "tags": []
   },
   "source": [
    "# val dataset"
   ]
  },
  {
   "cell_type": "code",
   "execution_count": 9,
   "id": "f16b51d8",
   "metadata": {
    "execution": {
     "iopub.execute_input": "2024-05-06T09:35:24.269693Z",
     "iopub.status.busy": "2024-05-06T09:35:24.269007Z",
     "iopub.status.idle": "2024-05-06T09:35:48.963203Z",
     "shell.execute_reply": "2024-05-06T09:35:48.962242Z"
    },
    "papermill": {
     "duration": 24.715422,
     "end_time": "2024-05-06T09:35:48.965662",
     "exception": false,
     "start_time": "2024-05-06T09:35:24.250240",
     "status": "completed"
    },
    "tags": []
   },
   "outputs": [],
   "source": [
    "predictions = []\n",
    "for model in [model1, model2, model3, model4]:\n",
    "    predictions.append(model.predict(val_set))\n",
    "\n",
    "ensemble_predictions = np.mean(predictions, axis=0)\n",
    "\n",
    "final_predictions = np.argmax(ensemble_predictions, axis=1)\n",
    "\n"
   ]
  },
  {
   "cell_type": "code",
   "execution_count": 10,
   "id": "248b8146",
   "metadata": {
    "execution": {
     "iopub.execute_input": "2024-05-06T09:35:49.004718Z",
     "iopub.status.busy": "2024-05-06T09:35:49.004473Z",
     "iopub.status.idle": "2024-05-06T09:35:49.009742Z",
     "shell.execute_reply": "2024-05-06T09:35:49.009022Z"
    },
    "papermill": {
     "duration": 0.026254,
     "end_time": "2024-05-06T09:35:49.011624",
     "exception": false,
     "start_time": "2024-05-06T09:35:48.985370",
     "status": "completed"
    },
    "tags": []
   },
   "outputs": [
    {
     "data": {
      "text/plain": [
       "array([0, 0, 0, ..., 9, 9, 9])"
      ]
     },
     "execution_count": 10,
     "metadata": {},
     "output_type": "execute_result"
    }
   ],
   "source": [
    "final_predictions"
   ]
  },
  {
   "cell_type": "code",
   "execution_count": 11,
   "id": "de97c8ae",
   "metadata": {
    "execution": {
     "iopub.execute_input": "2024-05-06T09:35:49.051049Z",
     "iopub.status.busy": "2024-05-06T09:35:49.050827Z",
     "iopub.status.idle": "2024-05-06T09:35:49.062580Z",
     "shell.execute_reply": "2024-05-06T09:35:49.061630Z"
    },
    "papermill": {
     "duration": 0.033486,
     "end_time": "2024-05-06T09:35:49.064543",
     "exception": false,
     "start_time": "2024-05-06T09:35:49.031057",
     "status": "completed"
    },
    "tags": []
   },
   "outputs": [
    {
     "name": "stdout",
     "output_type": "stream",
     "text": [
      "              precision    recall  f1-score   support\n",
      "\n",
      "           0       1.00      1.00      1.00       120\n",
      "           1       0.99      0.99      0.99       120\n",
      "           2       1.00      1.00      1.00       120\n",
      "           3       1.00      0.99      1.00       120\n",
      "           4       1.00      0.98      0.99       120\n",
      "           5       1.00      1.00      1.00       120\n",
      "           6       1.00      0.99      1.00       120\n",
      "           7       0.98      0.99      0.98       120\n",
      "           8       1.00      1.00      1.00       120\n",
      "           9       0.98      1.00      0.99       120\n",
      "\n",
      "    accuracy                           0.99      1200\n",
      "   macro avg       1.00      0.99      1.00      1200\n",
      "weighted avg       1.00      0.99      1.00      1200\n",
      "\n"
     ]
    }
   ],
   "source": [
    "from sklearn.metrics import classification_report\n",
    "test_labels = test_set.classes\n",
    "\n",
    "report = classification_report(test_labels, final_predictions)\n",
    "print(report)\n"
   ]
  },
  {
   "cell_type": "code",
   "execution_count": 12,
   "id": "94539498",
   "metadata": {
    "execution": {
     "iopub.execute_input": "2024-05-06T09:35:49.105957Z",
     "iopub.status.busy": "2024-05-06T09:35:49.105727Z",
     "iopub.status.idle": "2024-05-06T09:35:49.781637Z",
     "shell.execute_reply": "2024-05-06T09:35:49.780926Z"
    },
    "papermill": {
     "duration": 0.699699,
     "end_time": "2024-05-06T09:35:49.784447",
     "exception": false,
     "start_time": "2024-05-06T09:35:49.084748",
     "status": "completed"
    },
    "tags": []
   },
   "outputs": [
    {
     "data": {
      "image/png": "[encoded data removed]",
      "text/plain": [
       "<Figure size 720x576 with 2 Axes>"
      ]
     },
     "metadata": {
      "needs_background": "light"
     },
     "output_type": "display_data"
    }
   ],
   "source": [
    "from sklearn.metrics import confusion_matrix\n",
    "import seaborn as sns\n",
    "\n",
    "conf_matrix = confusion_matrix(test_labels, final_predictions)\n",
    "\n",
    "plt.figure(figsize=(10, 8))\n",
    "sns.heatmap(conf_matrix, annot=True, fmt='d', cmap='Blues', \n",
    "            xticklabels=test_set.class_indices.keys(), \n",
    "            yticklabels=test_set.class_indices.keys())\n",
    "plt.xlabel('Predicted labels')\n",
    "plt.ylabel('True labels')\n",
    "plt.title('Confusion Matrix')\n",
    "plt.show()\n"
   ]
  }
 ],
 "metadata": {
  "kaggle": {
   "accelerator": "gpu",
   "dataSources": [
    {
     "datasetId": 4948373,
     "sourceId": 8333005,
     "sourceType": "datasetVersion"
    },
    {
     "datasetId": 4948907,
     "sourceId": 8333711,
     "sourceType": "datasetVersion"
    },
    {
     "datasetId": 4948947,
     "sourceId": 8333780,
     "sourceType": "datasetVersion"
    },
    {
     "datasetId": 4949009,
     "sourceId": 8333849,
     "sourceType": "datasetVersion"
    },
    {
     "datasetId": 4949018,
     "sourceId": 8333859,
     "sourceType": "datasetVersion"
    }
   ],
   "dockerImageVersionId": 30192,
   "isGpuEnabled": true,
   "isInternetEnabled": true,
   "language": "python",
   "sourceType": "notebook"
  },
  "kernelspec": {
   "display_name": "Python 3",
   "language": "python",
   "name": "python3"
  },
  "language_info": {
   "codemirror_mode": {
    "name": "ipython",
    "version": 3
   },
   "file_extension": ".py",
   "mimetype": "text/x-python",
   "name": "python",
   "nbconvert_exporter": "python",
   "pygments_lexer": "ipython3",
   "version": "3.7.12"
  },
  "papermill": {
   "default_parameters": {},
   "duration": 90.401143,
   "end_time": "2024-05-06T09:35:52.618361",
   "environment_variables": {},
   "exception": null,
   "input_path": "__notebook__.ipynb",
   "output_path": "__notebook__.ipynb",
   "parameters": {},
   "start_time": "2024-05-06T09:34:22.217218",
   "version": "2.3.4"
  }
 },
 "nbformat": 4,
 "nbformat_minor": 5
}
